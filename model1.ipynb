{
 "cells": [
  {
   "cell_type": "code",
   "execution_count": 18,
   "metadata": {},
   "outputs": [],
   "source": [
    "import pandas as pd\n",
    "import numpy as np\n",
    "from sklearn.feature_extraction.text import TfidfVectorizer\n",
    "from sklearn.model_selection import train_test_split"
   ]
  },
  {
   "cell_type": "code",
   "execution_count": 2,
   "metadata": {},
   "outputs": [
    {
     "data": {
      "text/html": [
       "<div>\n",
       "<style scoped>\n",
       "    .dataframe tbody tr th:only-of-type {\n",
       "        vertical-align: middle;\n",
       "    }\n",
       "\n",
       "    .dataframe tbody tr th {\n",
       "        vertical-align: top;\n",
       "    }\n",
       "\n",
       "    .dataframe thead th {\n",
       "        text-align: right;\n",
       "    }\n",
       "</style>\n",
       "<table border=\"1\" class=\"dataframe\">\n",
       "  <thead>\n",
       "    <tr style=\"text-align: right;\">\n",
       "      <th></th>\n",
       "      <th>Unnamed: 0</th>\n",
       "      <th>id</th>\n",
       "      <th>CONTEXT</th>\n",
       "      <th>Accounting and Finance</th>\n",
       "      <th>Antitrust</th>\n",
       "      <th>Banking</th>\n",
       "      <th>Broker Dealer</th>\n",
       "      <th>Commodities Trading</th>\n",
       "      <th>Compliance Management</th>\n",
       "      <th>Consumer protection</th>\n",
       "      <th>...</th>\n",
       "      <th>Required Disclosures</th>\n",
       "      <th>Research</th>\n",
       "      <th>Risk Management</th>\n",
       "      <th>Securities Clearing</th>\n",
       "      <th>Securities Issuing</th>\n",
       "      <th>Securities Management</th>\n",
       "      <th>Securities Sales</th>\n",
       "      <th>Securities Settlement</th>\n",
       "      <th>Trade Pricing</th>\n",
       "      <th>Trade Settlement</th>\n",
       "    </tr>\n",
       "  </thead>\n",
       "  <tbody>\n",
       "    <tr>\n",
       "      <th>0</th>\n",
       "      <td>0</td>\n",
       "      <td>4772</td>\n",
       "      <td>consent order matter solium financial services...</td>\n",
       "      <td>0</td>\n",
       "      <td>0</td>\n",
       "      <td>0</td>\n",
       "      <td>1</td>\n",
       "      <td>0</td>\n",
       "      <td>1</td>\n",
       "      <td>0</td>\n",
       "      <td>...</td>\n",
       "      <td>0</td>\n",
       "      <td>0</td>\n",
       "      <td>0</td>\n",
       "      <td>0</td>\n",
       "      <td>0</td>\n",
       "      <td>0</td>\n",
       "      <td>0</td>\n",
       "      <td>0</td>\n",
       "      <td>0</td>\n",
       "      <td>0</td>\n",
       "    </tr>\n",
       "    <tr>\n",
       "      <th>1</th>\n",
       "      <td>1</td>\n",
       "      <td>4774</td>\n",
       "      <td>alberta securities commission investors top in...</td>\n",
       "      <td>0</td>\n",
       "      <td>0</td>\n",
       "      <td>0</td>\n",
       "      <td>0</td>\n",
       "      <td>0</td>\n",
       "      <td>0</td>\n",
       "      <td>0</td>\n",
       "      <td>...</td>\n",
       "      <td>0</td>\n",
       "      <td>0</td>\n",
       "      <td>0</td>\n",
       "      <td>0</td>\n",
       "      <td>0</td>\n",
       "      <td>0</td>\n",
       "      <td>0</td>\n",
       "      <td>0</td>\n",
       "      <td>0</td>\n",
       "      <td>0</td>\n",
       "    </tr>\n",
       "    <tr>\n",
       "      <th>2</th>\n",
       "      <td>2</td>\n",
       "      <td>4775</td>\n",
       "      <td>exempt market dealer settlement alberta securi...</td>\n",
       "      <td>0</td>\n",
       "      <td>0</td>\n",
       "      <td>0</td>\n",
       "      <td>1</td>\n",
       "      <td>0</td>\n",
       "      <td>1</td>\n",
       "      <td>0</td>\n",
       "      <td>...</td>\n",
       "      <td>0</td>\n",
       "      <td>0</td>\n",
       "      <td>0</td>\n",
       "      <td>0</td>\n",
       "      <td>0</td>\n",
       "      <td>0</td>\n",
       "      <td>1</td>\n",
       "      <td>1</td>\n",
       "      <td>0</td>\n",
       "      <td>1</td>\n",
       "    </tr>\n",
       "    <tr>\n",
       "      <th>3</th>\n",
       "      <td>3</td>\n",
       "      <td>4776</td>\n",
       "      <td>canadian securities regulators announces consu...</td>\n",
       "      <td>0</td>\n",
       "      <td>0</td>\n",
       "      <td>0</td>\n",
       "      <td>0</td>\n",
       "      <td>0</td>\n",
       "      <td>0</td>\n",
       "      <td>0</td>\n",
       "      <td>...</td>\n",
       "      <td>1</td>\n",
       "      <td>0</td>\n",
       "      <td>0</td>\n",
       "      <td>0</td>\n",
       "      <td>0</td>\n",
       "      <td>0</td>\n",
       "      <td>0</td>\n",
       "      <td>1</td>\n",
       "      <td>0</td>\n",
       "      <td>0</td>\n",
       "    </tr>\n",
       "    <tr>\n",
       "      <th>4</th>\n",
       "      <td>4</td>\n",
       "      <td>4778</td>\n",
       "      <td>csa consultation paper consideration access eq...</td>\n",
       "      <td>0</td>\n",
       "      <td>0</td>\n",
       "      <td>0</td>\n",
       "      <td>0</td>\n",
       "      <td>0</td>\n",
       "      <td>0</td>\n",
       "      <td>1</td>\n",
       "      <td>...</td>\n",
       "      <td>1</td>\n",
       "      <td>0</td>\n",
       "      <td>0</td>\n",
       "      <td>0</td>\n",
       "      <td>0</td>\n",
       "      <td>0</td>\n",
       "      <td>0</td>\n",
       "      <td>1</td>\n",
       "      <td>0</td>\n",
       "      <td>0</td>\n",
       "    </tr>\n",
       "  </tbody>\n",
       "</table>\n",
       "<p>5 rows × 53 columns</p>\n",
       "</div>"
      ],
      "text/plain": [
       "   Unnamed: 0    id                                            CONTEXT  \\\n",
       "0           0  4772  consent order matter solium financial services...   \n",
       "1           1  4774  alberta securities commission investors top in...   \n",
       "2           2  4775  exempt market dealer settlement alberta securi...   \n",
       "3           3  4776  canadian securities regulators announces consu...   \n",
       "4           4  4778  csa consultation paper consideration access eq...   \n",
       "\n",
       "   Accounting and Finance  Antitrust  Banking  Broker Dealer  \\\n",
       "0                       0          0        0              1   \n",
       "1                       0          0        0              0   \n",
       "2                       0          0        0              1   \n",
       "3                       0          0        0              0   \n",
       "4                       0          0        0              0   \n",
       "\n",
       "   Commodities Trading  Compliance Management  Consumer protection  ...  \\\n",
       "0                    0                      1                    0  ...   \n",
       "1                    0                      0                    0  ...   \n",
       "2                    0                      1                    0  ...   \n",
       "3                    0                      0                    0  ...   \n",
       "4                    0                      0                    1  ...   \n",
       "\n",
       "   Required Disclosures  Research  Risk Management  Securities Clearing  \\\n",
       "0                     0         0                0                    0   \n",
       "1                     0         0                0                    0   \n",
       "2                     0         0                0                    0   \n",
       "3                     1         0                0                    0   \n",
       "4                     1         0                0                    0   \n",
       "\n",
       "   Securities Issuing  Securities Management  Securities Sales  \\\n",
       "0                   0                      0                 0   \n",
       "1                   0                      0                 0   \n",
       "2                   0                      0                 1   \n",
       "3                   0                      0                 0   \n",
       "4                   0                      0                 0   \n",
       "\n",
       "   Securities Settlement  Trade Pricing  Trade Settlement  \n",
       "0                      0              0                 0  \n",
       "1                      0              0                 0  \n",
       "2                      1              0                 1  \n",
       "3                      1              0                 0  \n",
       "4                      1              0                 0  \n",
       "\n",
       "[5 rows x 53 columns]"
      ]
     },
     "execution_count": 2,
     "metadata": {},
     "output_type": "execute_result"
    }
   ],
   "source": [
    "df = pd.read_csv(\"trainpreprocessed.csv\")\n",
    "df.head()"
   ]
  },
  {
   "cell_type": "code",
   "execution_count": 3,
   "metadata": {},
   "outputs": [],
   "source": [
    "af = df.drop(['Unnamed: 0', 'id', 'CONTEXT'],axis=1)"
   ]
  },
  {
   "cell_type": "code",
   "execution_count": 42,
   "metadata": {},
   "outputs": [
    {
     "data": {
      "text/plain": [
       "Index(['Accounting and Finance', 'Antitrust', 'Banking', 'Broker Dealer',\n",
       "       'Commodities Trading', 'Compliance Management', 'Consumer protection',\n",
       "       'Contract Provisions', 'Corporate Communications',\n",
       "       'Corporate Governance', 'Definitions', 'Delivery', 'Examinations',\n",
       "       'Exemptions', 'Fees and Charges', 'Financial Accounting',\n",
       "       'Financial Crime', 'Forms', 'Fraud', 'IT Risk', 'Information Filing',\n",
       "       'Insurance', 'Legal', 'Legal Proceedings', 'Licensing',\n",
       "       'Licensure and certification', 'Liquidity Risk', 'Listing',\n",
       "       'Market Abuse', 'Market Risk', 'Monetary and Economic Policy',\n",
       "       'Money Services', 'Money-Laundering and Terrorist Financing',\n",
       "       'Natural Disasters', 'Payments and Settlements', 'Powers and Duties',\n",
       "       'Quotation', 'Records Maintenance', 'Regulatory Actions',\n",
       "       'Regulatory Reporting', 'Required Disclosures', 'Research',\n",
       "       'Risk Management', 'Securities Clearing', 'Securities Issuing',\n",
       "       'Securities Management', 'Securities Sales', 'Securities Settlement',\n",
       "       'Trade Pricing', 'Trade Settlement'],\n",
       "      dtype='object')"
      ]
     },
     "execution_count": 42,
     "metadata": {},
     "output_type": "execute_result"
    }
   ],
   "source": [
    "af.columns"
   ]
  },
  {
   "cell_type": "code",
   "execution_count": 6,
   "metadata": {},
   "outputs": [],
   "source": [
    "vectorizer  = TfidfVectorizer()\n",
    "x = vectorizer.fit_transform(df.CONTEXT)"
   ]
  },
  {
   "cell_type": "code",
   "execution_count": 7,
   "metadata": {},
   "outputs": [
    {
     "data": {
      "text/plain": [
       "<9859x31263 sparse matrix of type '<class 'numpy.float64'>'\n",
       "\twith 741696 stored elements in Compressed Sparse Row format>"
      ]
     },
     "execution_count": 7,
     "metadata": {},
     "output_type": "execute_result"
    }
   ],
   "source": [
    "x"
   ]
  },
  {
   "cell_type": "code",
   "execution_count": 19,
   "metadata": {},
   "outputs": [],
   "source": [
    "xtrain , xtest , ytrain , ytest = train_test_split(x,af,test_size=0.10,random_state=10)"
   ]
  },
  {
   "cell_type": "code",
   "execution_count": 22,
   "metadata": {},
   "outputs": [
    {
     "data": {
      "text/plain": [
       "<8873x31263 sparse matrix of type '<class 'numpy.float64'>'\n",
       "\twith 667182 stored elements in Compressed Sparse Row format>"
      ]
     },
     "execution_count": 22,
     "metadata": {},
     "output_type": "execute_result"
    }
   ],
   "source": [
    "xtrain"
   ]
  },
  {
   "cell_type": "code",
   "execution_count": 13,
   "metadata": {},
   "outputs": [],
   "source": [
    "import lightgbm as lgb\n",
    "from sklearn.multiclass import OneVsRestClassifier"
   ]
  },
  {
   "cell_type": "code",
   "execution_count": 12,
   "metadata": {},
   "outputs": [],
   "source": [
    "model  = lgb.LGBMClassifier()"
   ]
  },
  {
   "cell_type": "code",
   "execution_count": 14,
   "metadata": {},
   "outputs": [],
   "source": [
    "model = OneVsRestClassifier(model)"
   ]
  },
  {
   "cell_type": "code",
   "execution_count": 23,
   "metadata": {},
   "outputs": [
    {
     "data": {
      "text/html": [
       "<style>#sk-container-id-2 {color: black;background-color: white;}#sk-container-id-2 pre{padding: 0;}#sk-container-id-2 div.sk-toggleable {background-color: white;}#sk-container-id-2 label.sk-toggleable__label {cursor: pointer;display: block;width: 100%;margin-bottom: 0;padding: 0.3em;box-sizing: border-box;text-align: center;}#sk-container-id-2 label.sk-toggleable__label-arrow:before {content: \"▸\";float: left;margin-right: 0.25em;color: #696969;}#sk-container-id-2 label.sk-toggleable__label-arrow:hover:before {color: black;}#sk-container-id-2 div.sk-estimator:hover label.sk-toggleable__label-arrow:before {color: black;}#sk-container-id-2 div.sk-toggleable__content {max-height: 0;max-width: 0;overflow: hidden;text-align: left;background-color: #f0f8ff;}#sk-container-id-2 div.sk-toggleable__content pre {margin: 0.2em;color: black;border-radius: 0.25em;background-color: #f0f8ff;}#sk-container-id-2 input.sk-toggleable__control:checked~div.sk-toggleable__content {max-height: 200px;max-width: 100%;overflow: auto;}#sk-container-id-2 input.sk-toggleable__control:checked~label.sk-toggleable__label-arrow:before {content: \"▾\";}#sk-container-id-2 div.sk-estimator input.sk-toggleable__control:checked~label.sk-toggleable__label {background-color: #d4ebff;}#sk-container-id-2 div.sk-label input.sk-toggleable__control:checked~label.sk-toggleable__label {background-color: #d4ebff;}#sk-container-id-2 input.sk-hidden--visually {border: 0;clip: rect(1px 1px 1px 1px);clip: rect(1px, 1px, 1px, 1px);height: 1px;margin: -1px;overflow: hidden;padding: 0;position: absolute;width: 1px;}#sk-container-id-2 div.sk-estimator {font-family: monospace;background-color: #f0f8ff;border: 1px dotted black;border-radius: 0.25em;box-sizing: border-box;margin-bottom: 0.5em;}#sk-container-id-2 div.sk-estimator:hover {background-color: #d4ebff;}#sk-container-id-2 div.sk-parallel-item::after {content: \"\";width: 100%;border-bottom: 1px solid gray;flex-grow: 1;}#sk-container-id-2 div.sk-label:hover label.sk-toggleable__label {background-color: #d4ebff;}#sk-container-id-2 div.sk-serial::before {content: \"\";position: absolute;border-left: 1px solid gray;box-sizing: border-box;top: 0;bottom: 0;left: 50%;z-index: 0;}#sk-container-id-2 div.sk-serial {display: flex;flex-direction: column;align-items: center;background-color: white;padding-right: 0.2em;padding-left: 0.2em;position: relative;}#sk-container-id-2 div.sk-item {position: relative;z-index: 1;}#sk-container-id-2 div.sk-parallel {display: flex;align-items: stretch;justify-content: center;background-color: white;position: relative;}#sk-container-id-2 div.sk-item::before, #sk-container-id-2 div.sk-parallel-item::before {content: \"\";position: absolute;border-left: 1px solid gray;box-sizing: border-box;top: 0;bottom: 0;left: 50%;z-index: -1;}#sk-container-id-2 div.sk-parallel-item {display: flex;flex-direction: column;z-index: 1;position: relative;background-color: white;}#sk-container-id-2 div.sk-parallel-item:first-child::after {align-self: flex-end;width: 50%;}#sk-container-id-2 div.sk-parallel-item:last-child::after {align-self: flex-start;width: 50%;}#sk-container-id-2 div.sk-parallel-item:only-child::after {width: 0;}#sk-container-id-2 div.sk-dashed-wrapped {border: 1px dashed gray;margin: 0 0.4em 0.5em 0.4em;box-sizing: border-box;padding-bottom: 0.4em;background-color: white;}#sk-container-id-2 div.sk-label label {font-family: monospace;font-weight: bold;display: inline-block;line-height: 1.2em;}#sk-container-id-2 div.sk-label-container {text-align: center;}#sk-container-id-2 div.sk-container {/* jupyter's `normalize.less` sets `[hidden] { display: none; }` but bootstrap.min.css set `[hidden] { display: none !important; }` so we also need the `!important` here to be able to override the default hidden behavior on the sphinx rendered scikit-learn.org. See: https://github.com/scikit-learn/scikit-learn/issues/21755 */display: inline-block !important;position: relative;}#sk-container-id-2 div.sk-text-repr-fallback {display: none;}</style><div id=\"sk-container-id-2\" class=\"sk-top-container\"><div class=\"sk-text-repr-fallback\"><pre>OneVsRestClassifier(estimator=LGBMClassifier())</pre><b>In a Jupyter environment, please rerun this cell to show the HTML representation or trust the notebook. <br />On GitHub, the HTML representation is unable to render, please try loading this page with nbviewer.org.</b></div><div class=\"sk-container\" hidden><div class=\"sk-item sk-dashed-wrapped\"><div class=\"sk-label-container\"><div class=\"sk-label sk-toggleable\"><input class=\"sk-toggleable__control sk-hidden--visually\" id=\"sk-estimator-id-4\" type=\"checkbox\" ><label for=\"sk-estimator-id-4\" class=\"sk-toggleable__label sk-toggleable__label-arrow\">OneVsRestClassifier</label><div class=\"sk-toggleable__content\"><pre>OneVsRestClassifier(estimator=LGBMClassifier())</pre></div></div></div><div class=\"sk-parallel\"><div class=\"sk-parallel-item\"><div class=\"sk-item\"><div class=\"sk-label-container\"><div class=\"sk-label sk-toggleable\"><input class=\"sk-toggleable__control sk-hidden--visually\" id=\"sk-estimator-id-5\" type=\"checkbox\" ><label for=\"sk-estimator-id-5\" class=\"sk-toggleable__label sk-toggleable__label-arrow\">estimator: LGBMClassifier</label><div class=\"sk-toggleable__content\"><pre>LGBMClassifier()</pre></div></div></div><div class=\"sk-serial\"><div class=\"sk-item\"><div class=\"sk-estimator sk-toggleable\"><input class=\"sk-toggleable__control sk-hidden--visually\" id=\"sk-estimator-id-6\" type=\"checkbox\" ><label for=\"sk-estimator-id-6\" class=\"sk-toggleable__label sk-toggleable__label-arrow\">LGBMClassifier</label><div class=\"sk-toggleable__content\"><pre>LGBMClassifier()</pre></div></div></div></div></div></div></div></div></div></div>"
      ],
      "text/plain": [
       "OneVsRestClassifier(estimator=LGBMClassifier())"
      ]
     },
     "execution_count": 23,
     "metadata": {},
     "output_type": "execute_result"
    }
   ],
   "source": [
    "model.fit(xtrain,ytrain)"
   ]
  },
  {
   "cell_type": "code",
   "execution_count": 25,
   "metadata": {},
   "outputs": [],
   "source": [
    "ypredicted = model.predict(xtest)"
   ]
  },
  {
   "cell_type": "code",
   "execution_count": 34,
   "metadata": {},
   "outputs": [
    {
     "name": "stderr",
     "output_type": "stream",
     "text": [
      "c:\\python\\python37\\lib\\site-packages\\sklearn\\metrics\\_classification.py:1334: UndefinedMetricWarning: Precision and F-score are ill-defined and being set to 0.0 in samples with no predicted labels. Use `zero_division` parameter to control this behavior.\n",
      "  _warn_prf(average, modifier, msg_start, len(result))\n"
     ]
    }
   ],
   "source": [
    "from sklearn.metrics import confusion_matrix, classification_report\n",
    "y = classification_report(ytest, ypredicted)\n",
    "# print(classification_report(ytest, ypredicted))"
   ]
  },
  {
   "cell_type": "code",
   "execution_count": 41,
   "metadata": {},
   "outputs": [
    {
     "name": "stdout",
     "output_type": "stream",
     "text": [
      "              precision    recall  f1-score   support\n",
      "\n",
      "           0       0.91      0.63      0.75        95\n",
      "           1       0.96      0.76      0.85        84\n",
      "           2       0.99      0.88      0.93       101\n",
      "           3       0.94      0.90      0.92        71\n",
      "           4       0.89      0.89      0.89        56\n",
      "           5       0.89      0.91      0.90       128\n",
      "           6       0.98      0.81      0.89       102\n",
      "           7       0.88      0.86      0.87        95\n",
      "           8       0.97      0.65      0.78        49\n",
      "           9       0.89      0.70      0.78        92\n",
      "          10       0.88      0.85      0.86        66\n",
      "          11       0.95      0.84      0.89        75\n",
      "          12       0.87      0.80      0.83       171\n",
      "          13       0.95      0.75      0.84       121\n",
      "          14       0.99      0.98      0.98       128\n",
      "          15       0.86      0.71      0.77        51\n",
      "          16       0.95      0.78      0.86       115\n",
      "          17       0.78      0.64      0.71        45\n",
      "          18       1.00      0.90      0.95        93\n",
      "          19       0.93      0.65      0.77        43\n",
      "          20       0.88      0.63      0.73       148\n",
      "          21       0.88      0.87      0.87        75\n",
      "          22       0.79      0.60      0.68        73\n",
      "          23       0.92      0.81      0.86       136\n",
      "          24       0.95      0.79      0.86       109\n",
      "          25       0.88      0.78      0.82        99\n",
      "          26       0.88      0.58      0.70        62\n",
      "          27       0.88      0.93      0.91       119\n",
      "          28       0.97      0.81      0.88        70\n",
      "          29       0.87      0.77      0.81       158\n",
      "          30       0.91      0.69      0.79        75\n",
      "          31       0.95      0.69      0.80       103\n",
      "          32       0.97      0.83      0.90        47\n",
      "          33       0.99      0.88      0.93       106\n",
      "          34       0.98      0.81      0.89       110\n",
      "          35       0.92      0.48      0.63        91\n",
      "          36       0.98      0.91      0.94        64\n",
      "          37       0.98      0.80      0.88        50\n",
      "          38       0.92      0.79      0.85       182\n",
      "          39       0.87      0.64      0.74       107\n",
      "          40       0.87      0.72      0.79        67\n",
      "          41       0.73      0.74      0.74        43\n",
      "          42       0.89      0.79      0.83        98\n",
      "          43       0.93      0.93      0.93       105\n",
      "          44       0.90      0.69      0.78       117\n",
      "          45       1.00      0.81      0.90        64\n",
      "          46       0.90      0.77      0.83       190\n",
      "          47       0.88      0.89      0.88        71\n",
      "          48       0.95      0.86      0.90        92\n",
      "          49       0.90      0.71      0.79        62\n",
      "\n",
      "   micro avg       0.92      0.78      0.84      4674\n",
      "   macro avg       0.91      0.78      0.84      4674\n",
      "weighted avg       0.92      0.78      0.84      4674\n",
      " samples avg       0.87      0.76      0.79      4674\n",
      "\n"
     ]
    }
   ],
   "source": [
    "print(y)"
   ]
  },
  {
   "cell_type": "code",
   "execution_count": null,
   "metadata": {},
   "outputs": [],
   "source": []
  }
 ],
 "metadata": {
  "kernelspec": {
   "display_name": "Python 3.9.6 64-bit",
   "language": "python",
   "name": "python3"
  },
  "language_info": {
   "codemirror_mode": {
    "name": "ipython",
    "version": 3
   },
   "file_extension": ".py",
   "mimetype": "text/x-python",
   "name": "python",
   "nbconvert_exporter": "python",
   "pygments_lexer": "ipython3",
   "version": "3.9.6"
  },
  "orig_nbformat": 4,
  "vscode": {
   "interpreter": {
    "hash": "f7608d97510eb413e289a9ba9d2d6d39358a0b182af5f310d2c58353f8e6821a"
   }
  }
 },
 "nbformat": 4,
 "nbformat_minor": 2
}
